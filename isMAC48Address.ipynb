{
 "cells": [
  {
   "cell_type": "code",
   "execution_count": 121,
   "metadata": {},
   "outputs": [],
   "source": [
    "inputString=\"00-1B-63-84-00-00\"\n",
    "alpha=['A','B','C','D','E','F']\n",
    "numb=['0','1','2','3','4','5','6','7','8','9']"
   ]
  },
  {
   "cell_type": "code",
   "execution_count": 122,
   "metadata": {},
   "outputs": [],
   "source": [
    "string=inputString.split('-')"
   ]
  },
  {
   "cell_type": "code",
   "execution_count": 123,
   "metadata": {
    "scrolled": true
   },
   "outputs": [
    {
     "name": "stdout",
     "output_type": "stream",
     "text": [
      "true\n"
     ]
    }
   ],
   "source": [
    "count=0\n",
    "if len(string)==6:\n",
    "    for i in range(len(string)):\n",
    "        if (string[i][0].isdigit() and string[i][1].isdigit() and len(string[i])==2):\n",
    "            if string[i][0] in numb and string[i][1] in numb:\n",
    "                \n",
    "                \n",
    "                count+=1\n",
    "        elif(string[i][0].isdigit() and string[i][1].isalpha() and len(string[i])==2):\n",
    "            if string[i][0] in numb and string[i][1] in alpha:\n",
    "                \n",
    "                \n",
    "                count+=1\n",
    "        elif(string[i][1].isdigit() and string[i][0].isalpha() and len(string[i])==2):\n",
    "            if string[i][0] in alpha and string[i][1] in numb:\n",
    "                \n",
    "               \n",
    "                count+=1\n",
    "        elif(string[i][0].isalpha() and string[i][1].isalpha() and len(string[i])==2):\n",
    "            if string[i][0] in alpha and string[i][1] in alpha:\n",
    "                \n",
    "                \n",
    "                count+=1\n",
    "            \n",
    "if count==len(string):\n",
    "    print(\"true\")\n",
    "else:\n",
    "    print(\"false\")         \n",
    "            "
   ]
  },
  {
   "cell_type": "code",
   "execution_count": 124,
   "metadata": {},
   "outputs": [],
   "source": [
    "def isMAC48Address(inputString):\n",
    "    MAC = inputString.split('-')\n",
    "    HEX = ['1', '2', '3', '4','5','6','7','8','9','0','A','B','C','D','E','F']\n",
    "    if len(MAC) != 6:\n",
    "        return False\n",
    "    for k in range(6):\n",
    "        if len(MAC[k]) != 2:\n",
    "            return False\n",
    "    for i in range(6):\n",
    "        for j in range(2):\n",
    "            if MAC[i][j] in HEX:\n",
    "                continue\n",
    "            else:\n",
    "                return False\n",
    "    return True"
   ]
  },
  {
   "cell_type": "code",
   "execution_count": 125,
   "metadata": {},
   "outputs": [
    {
     "data": {
      "text/plain": [
       "True"
      ]
     },
     "execution_count": 125,
     "metadata": {},
     "output_type": "execute_result"
    }
   ],
   "source": [
    "isMAC48Address(inputString)"
   ]
  },
  {
   "cell_type": "code",
   "execution_count": null,
   "metadata": {},
   "outputs": [],
   "source": []
  }
 ],
 "metadata": {
  "kernelspec": {
   "display_name": "Python 3",
   "language": "python",
   "name": "python3"
  },
  "language_info": {
   "codemirror_mode": {
    "name": "ipython",
    "version": 3
   },
   "file_extension": ".py",
   "mimetype": "text/x-python",
   "name": "python",
   "nbconvert_exporter": "python",
   "pygments_lexer": "ipython3",
   "version": "3.8.3"
  }
 },
 "nbformat": 4,
 "nbformat_minor": 4
}
