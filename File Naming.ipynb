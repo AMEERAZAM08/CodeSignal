{
 "cells": [
  {
   "cell_type": "code",
   "execution_count": 93,
   "metadata": {},
   "outputs": [],
   "source": [
    "names = []"
   ]
  },
  {
   "cell_type": "code",
   "execution_count": 95,
   "metadata": {},
   "outputs": [],
   "source": [
    "def fileNaming(names):\n",
    "    if len(names)>=1:\n",
    "        output = [names[0]]\n",
    "        for i in range(1,len(names)):\n",
    "            if names[i] in names[0:i] or names[i] in output[0:i]:\n",
    "                j = names[0:i].count(names[i])\n",
    "                k = output[0:i].count(names[i])\n",
    "                j = max(j,k)\n",
    "                temp = names[i]+\"(\"+str(j)+\")\"\n",
    "                while temp in output[0:i]:\n",
    "                    j+=1\n",
    "                    temp = names[i]+\"(\"+str(j)+\")\"\n",
    "                output.append(temp)\n",
    "            else:\n",
    "                output.append(names[i])\n",
    "    else:\n",
    "        output=[]\n",
    "    return output"
   ]
  },
  {
   "cell_type": "code",
   "execution_count": 96,
   "metadata": {},
   "outputs": [
    {
     "data": {
      "text/plain": [
       "[]"
      ]
     },
     "execution_count": 96,
     "metadata": {},
     "output_type": "execute_result"
    }
   ],
   "source": [
    "fileNaming(names)"
   ]
  },
  {
   "cell_type": "code",
   "execution_count": null,
   "metadata": {},
   "outputs": [],
   "source": []
  }
 ],
 "metadata": {
  "kernelspec": {
   "display_name": "Python 3",
   "language": "python",
   "name": "python3"
  },
  "language_info": {
   "codemirror_mode": {
    "name": "ipython",
    "version": 3
   },
   "file_extension": ".py",
   "mimetype": "text/x-python",
   "name": "python",
   "nbconvert_exporter": "python",
   "pygments_lexer": "ipython3",
   "version": "3.8.3"
  }
 },
 "nbformat": 4,
 "nbformat_minor": 4
}
