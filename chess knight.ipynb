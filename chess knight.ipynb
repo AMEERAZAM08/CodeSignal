{
 "cells": [
  {
   "cell_type": "code",
   "execution_count": 3,
   "metadata": {},
   "outputs": [],
   "source": [
    "def chessKnight(cell):\n",
    "    row = ord(cell[1]) - ord('0')\n",
    "    column = ord(cell[0]) - ord('a') + 1\n",
    "    steps = [\n",
    "            [-2, -1], [-1, -2], [1, -2], [2, -1],\n",
    "            [2, 1], [1, 2], [-1, 2], [-2, 1]\n",
    "            ]\n",
    "    answer = 0\n",
    "\n",
    "    for i in range(len(steps)):\n",
    "        tmpRow = row + steps[i][0]\n",
    "        tmpColumn =  column + steps[i][1] \n",
    "        if (tmpRow >= 1 and tmpRow <= 8 and\n",
    "            tmpColumn >= 1 and tmpColumn <= 8):\n",
    "            answer += 1\n",
    "\n",
    "    return answer\n",
    "    "
   ]
  },
  {
   "cell_type": "code",
   "execution_count": 9,
   "metadata": {},
   "outputs": [
    {
     "data": {
      "text/plain": [
       "6"
      ]
     },
     "execution_count": 9,
     "metadata": {},
     "output_type": "execute_result"
    }
   ],
   "source": [
    "chessKnight(\"c2\")"
   ]
  },
  {
   "cell_type": "code",
   "execution_count": null,
   "metadata": {},
   "outputs": [],
   "source": []
  }
 ],
 "metadata": {
  "kernelspec": {
   "display_name": "Python 3",
   "language": "python",
   "name": "python3"
  },
  "language_info": {
   "codemirror_mode": {
    "name": "ipython",
    "version": 3
   },
   "file_extension": ".py",
   "mimetype": "text/x-python",
   "name": "python",
   "nbconvert_exporter": "python",
   "pygments_lexer": "ipython3",
   "version": "3.8.3"
  }
 },
 "nbformat": 4,
 "nbformat_minor": 4
}
