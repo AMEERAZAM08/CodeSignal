{
 "cells": [
  {
   "cell_type": "code",
   "execution_count": 2,
   "metadata": {},
   "outputs": [
    {
     "name": "stdout",
     "output_type": "stream",
     "text": [
      "a2bca2b2c2n\n"
     ]
    }
   ],
   "source": [
    "  \n",
    "def lineEncoding(s):\n",
    "    curr_char = s[0]\n",
    "    curr_count = 0\n",
    "    out = ''\n",
    "    for a in s:\n",
    "        if a != curr_char:\n",
    "            if curr_count > 1:\n",
    "                out+=str(curr_count) + curr_char\n",
    "            else:\n",
    "                out+=curr_char\n",
    "            curr_count = 1\n",
    "            curr_char = a\n",
    "        else:\n",
    "            curr_count+=1\n",
    "    out+=(str(curr_count) if curr_count > 1 else '')+ curr_char\n",
    "    return out\n",
    "\n",
    "\n",
    "print(lineEncoding(\"abbcabbccnn\"))"
   ]
  },
  {
   "cell_type": "code",
   "execution_count": null,
   "metadata": {},
   "outputs": [],
   "source": []
  }
 ],
 "metadata": {
  "kernelspec": {
   "display_name": "Python 3",
   "language": "python",
   "name": "python3"
  },
  "language_info": {
   "codemirror_mode": {
    "name": "ipython",
    "version": 3
   },
   "file_extension": ".py",
   "mimetype": "text/x-python",
   "name": "python",
   "nbconvert_exporter": "python",
   "pygments_lexer": "ipython3",
   "version": "3.8.3"
  }
 },
 "nbformat": 4,
 "nbformat_minor": 4
}
