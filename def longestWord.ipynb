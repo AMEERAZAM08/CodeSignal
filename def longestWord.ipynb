{
 "cells": [
  {
   "cell_type": "code",
   "execution_count": 45,
   "metadata": {},
   "outputs": [],
   "source": [
    "text=\"You are the best!!!!!!!!!!!! CodeFighter ever!\""
   ]
  },
  {
   "cell_type": "code",
   "execution_count": 46,
   "metadata": {},
   "outputs": [
    {
     "data": {
      "text/plain": [
       "['You', 'are', 'the', 'best!!!!!!!!!!!!', 'CodeFighter', 'ever!']"
      ]
     },
     "execution_count": 46,
     "metadata": {},
     "output_type": "execute_result"
    }
   ],
   "source": [
    "tex=text.split(' ')\n",
    "check=-1\n",
    "tex"
   ]
  },
  {
   "cell_type": "code",
   "execution_count": 49,
   "metadata": {},
   "outputs": [],
   "source": [
    "def longestWord(text):\n",
    "    longest = []\n",
    "    word = []\n",
    "    for char in text:\n",
    "        if ord(\"A\") <= ord(char) <= ord(\"Z\") or ord(\"a\") <= ord(char) <= ord(\"z\"):\n",
    "            word.append(char)\n",
    "            \n",
    "        else:\n",
    "            if len(word) > len(longest):\n",
    "                longest = word\n",
    "                \n",
    "            word = []\n",
    "    print(word)\n",
    "    if len(word) > len(longest):\n",
    "        longest = word\n",
    "    return \"\".join(longest)"
   ]
  },
  {
   "cell_type": "code",
   "execution_count": 50,
   "metadata": {},
   "outputs": [
    {
     "name": "stdout",
     "output_type": "stream",
     "text": [
      "[]\n"
     ]
    },
    {
     "data": {
      "text/plain": [
       "'CodeFighter'"
      ]
     },
     "execution_count": 50,
     "metadata": {},
     "output_type": "execute_result"
    }
   ],
   "source": [
    "longestWord(text)"
   ]
  },
  {
   "cell_type": "code",
   "execution_count": null,
   "metadata": {},
   "outputs": [],
   "source": []
  },
  {
   "cell_type": "code",
   "execution_count": null,
   "metadata": {},
   "outputs": [],
   "source": []
  }
 ],
 "metadata": {
  "kernelspec": {
   "display_name": "Python 3",
   "language": "python",
   "name": "python3"
  },
  "language_info": {
   "codemirror_mode": {
    "name": "ipython",
    "version": 3
   },
   "file_extension": ".py",
   "mimetype": "text/x-python",
   "name": "python",
   "nbconvert_exporter": "python",
   "pygments_lexer": "ipython3",
   "version": "3.8.3"
  }
 },
 "nbformat": 4,
 "nbformat_minor": 4
}
