{
 "cells": [
  {
   "cell_type": "code",
   "execution_count": 93,
   "metadata": {},
   "outputs": [],
   "source": [
    "grid = [[1, 3, 2, 5, 4, 6, 9, 8, 7],\n",
    "        [4, 6, 5, 8, 7, 9, 3, 2, 1],\n",
    "        [7, 9, 8, 2, 1, 3, 6, 5, 4],\n",
    "        [9, 2, 1, 4, 3, 5, 8, 7, 6],\n",
    "        [3, 5, 4, 7, 6, 8, 2, 1, 9],\n",
    "        [6, 8, 7, 1, 9, 2, 5, 4, 3],\n",
    "        [5, 7, 6, 9, 8, 1, 4, 3, 2],\n",
    "        [2, 4, 3, 6, 5, 7, 1, 9, 8],\n",
    "        [8, 1, 9, 3, 2, 4, 7, 6, 5]]"
   ]
  },
  {
   "cell_type": "code",
   "execution_count": 96,
   "metadata": {},
   "outputs": [],
   "source": [
    "def sudoku(grid):\n",
    "\n",
    "    def r(i):\n",
    "        return sorted(grid[i]) != list(range(1,10))\n",
    "    \n",
    "    def c(i):\n",
    "        return sorted([grid[x][i] for x in range(9)]) != list(range(1,10))\n",
    "    \n",
    "    def g(x,y):\n",
    "        return sorted([grid[i][j] for i in range(x,x+3) for j in range(y,y+3)]) != list(range(1,10))\n",
    "\n",
    "    for i in range(9):\n",
    "        if r(i) or c(i):\n",
    "            return False\n",
    "    for i in range(0,9,3):\n",
    "        for j in range(0,9,3):\n",
    "            if g(i,j):\n",
    "                return False\n",
    "    return True\n",
    "            "
   ]
  },
  {
   "cell_type": "code",
   "execution_count": 97,
   "metadata": {},
   "outputs": [
    {
     "data": {
      "text/plain": [
       "True"
      ]
     },
     "execution_count": 97,
     "metadata": {},
     "output_type": "execute_result"
    }
   ],
   "source": [
    "sudoko(grid)"
   ]
  },
  {
   "cell_type": "code",
   "execution_count": null,
   "metadata": {},
   "outputs": [],
   "source": []
  },
  {
   "cell_type": "code",
   "execution_count": null,
   "metadata": {},
   "outputs": [],
   "source": []
  }
 ],
 "metadata": {
  "kernelspec": {
   "display_name": "Python 3",
   "language": "python",
   "name": "python3"
  },
  "language_info": {
   "codemirror_mode": {
    "name": "ipython",
    "version": 3
   },
   "file_extension": ".py",
   "mimetype": "text/x-python",
   "name": "python",
   "nbconvert_exporter": "python",
   "pygments_lexer": "ipython3",
   "version": "3.8.3"
  }
 },
 "nbformat": 4,
 "nbformat_minor": 4
}
