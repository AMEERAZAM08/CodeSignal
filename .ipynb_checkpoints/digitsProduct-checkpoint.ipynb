{
 "cells": [
  {
   "cell_type": "raw",
   "metadata": {},
   "source": [
    "Given an integer product, find the smallest positive (i.e. greater than 0) integer the product of whose digits is equal to product. If there is no such integer, return -1 instead.\n",
    "\n",
    "Example\n",
    "\n",
    "For product = 12, the output should be\n",
    "digitsProduct(product) = 26;\n",
    "For product = 19, the output should be\n",
    "digitsProduct(product) = -1."
   ]
  },
  {
   "cell_type": "code",
   "execution_count": 25,
   "metadata": {},
   "outputs": [],
   "source": [
    "product = 450"
   ]
  },
  {
   "cell_type": "code",
   "execution_count": 28,
   "metadata": {},
   "outputs": [],
   "source": [
    "def digitsProduct(product):\n",
    "\n",
    "    answerDigits = []\n",
    "    answer = 0\n",
    "\n",
    "    if product == 0:\n",
    "        return 10\n",
    "\n",
    "    if product == 1:\n",
    "        return 1\n",
    "\n",
    "    for divisor in range(9, 1, -1):\n",
    "        while product % divisor == 0:\n",
    "            product /= divisor\n",
    "            answerDigits.append(divisor)\n",
    "\n",
    "    if product > 1:\n",
    "        return -1\n",
    "\n",
    "\n",
    "    for i in range(len(answerDigits) - 1, -1, -1):\n",
    "        answer = 10 * answer + answerDigits[i]\n",
    "    return answer"
   ]
  },
  {
   "cell_type": "code",
   "execution_count": 29,
   "metadata": {},
   "outputs": [
    {
     "data": {
      "text/plain": [
       "2559"
      ]
     },
     "execution_count": 29,
     "metadata": {},
     "output_type": "execute_result"
    }
   ],
   "source": [
    "digitsProduct(product)"
   ]
  },
  {
   "cell_type": "code",
   "execution_count": null,
   "metadata": {},
   "outputs": [],
   "source": []
  }
 ],
 "metadata": {
  "kernelspec": {
   "display_name": "Python 3",
   "language": "python",
   "name": "python3"
  },
  "language_info": {
   "codemirror_mode": {
    "name": "ipython",
    "version": 3
   },
   "file_extension": ".py",
   "mimetype": "text/x-python",
   "name": "python",
   "nbconvert_exporter": "python",
   "pygments_lexer": "ipython3",
   "version": "3.8.3"
  }
 },
 "nbformat": 4,
 "nbformat_minor": 4
}
