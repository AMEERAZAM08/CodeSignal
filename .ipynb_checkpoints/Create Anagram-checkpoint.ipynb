{
 "cells": [
  {
   "cell_type": "code",
   "execution_count": 12,
   "metadata": {},
   "outputs": [],
   "source": [
    "s= \"KJDMDLEEKALIJB\"\n",
    "t=\"AFDJGDCGHMIGHB\"\n"
   ]
  },
  {
   "cell_type": "markdown",
   "metadata": {},
   "source": [
    "# java solution "
   ]
  },
  {
   "cell_type": "code",
   "execution_count": 10,
   "metadata": {},
   "outputs": [
    {
     "data": {
      "text/plain": [
       "6"
      ]
     },
     "execution_count": 10,
     "metadata": {},
     "output_type": "execute_result"
    }
   ],
   "source": [
    "int createAnagram(String s, String t) {\n",
    "\n",
    "  int[] cnt1 = new int[26];\n",
    "  int[] cnt2 = new int[26];\n",
    "  for (int i = 0; i < s.length(); i++) {\n",
    "    cnt1[s.charAt(i) - 'A']++;\n",
    "    cnt2[t.charAt(i) - 'A']++;\n",
    "  }\n",
    "\n",
    "  int ans = 0;\n",
    "  for (int i = 0; i < 26; i++) {\n",
    "    ans += Math.abs(cnt1[i] - cnt2[i]);\n",
    "  }\n",
    "\n",
    "  return ans / 2;\n",
    "}"
   ]
  },
  {
   "cell_type": "code",
   "execution_count": null,
   "metadata": {},
   "outputs": [],
   "source": []
  }
 ],
 "metadata": {
  "kernelspec": {
   "display_name": "Python 3",
   "language": "python",
   "name": "python3"
  },
  "language_info": {
   "codemirror_mode": {
    "name": "ipython",
    "version": 3
   },
   "file_extension": ".py",
   "mimetype": "text/x-python",
   "name": "python",
   "nbconvert_exporter": "python",
   "pygments_lexer": "ipython3",
   "version": "3.8.3"
  }
 },
 "nbformat": 4,
 "nbformat_minor": 4
}
