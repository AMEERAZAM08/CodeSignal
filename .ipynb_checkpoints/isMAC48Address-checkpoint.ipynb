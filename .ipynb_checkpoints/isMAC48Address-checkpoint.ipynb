{
 "cells": [
  {
   "cell_type": "code",
   "execution_count": 68,
   "metadata": {},
   "outputs": [],
   "source": [
    "inputString=\"00-1B-63-84-00-0D\"\n",
    "alpha=['A','B','C','D','E','F']\n",
    "numb=['0','1','2','3','4','5','6','7','8','9']"
   ]
  },
  {
   "cell_type": "code",
   "execution_count": 69,
   "metadata": {},
   "outputs": [],
   "source": [
    "string=inputString.split('-')"
   ]
  },
  {
   "cell_type": "code",
   "execution_count": 70,
   "metadata": {},
   "outputs": [
    {
     "name": "stdout",
     "output_type": "stream",
     "text": [
      "1B\n",
      "0D\n",
      "false\n"
     ]
    }
   ],
   "source": [
    "count=0\n",
    "if len(string)==6:\n",
    "    for i in range(len(string)):\n",
    "            if (string[i][0] in numb or string[i][1] in numb) and (string[i][0] in alpha or string[i][1] in alpha) and len(string[i])==2:\n",
    "                print(string[i])\n",
    "                count+=1\n",
    "if count==len(string):\n",
    "    print(\"true\")\n",
    "else:\n",
    "    print(\"false\")"
   ]
  },
  {
   "cell_type": "code",
   "execution_count": 75,
   "metadata": {},
   "outputs": [
    {
     "name": "stdout",
     "output_type": "stream",
     "text": [
      "0\n",
      "0\n",
      "0\n",
      "0\n",
      "0\n",
      "0\n"
     ]
    }
   ],
   "source": [
    "count=0\n",
    "if len(string)==6:\n",
    "    for i in range(len(string)):\n",
    "        if (string[i][j].isdigit()):\n",
    "            print(string[i][j])\n",
    "        elif \n",
    "            \n",
    "            \n",
    "            "
   ]
  },
  {
   "cell_type": "code",
   "execution_count": null,
   "metadata": {},
   "outputs": [],
   "source": []
  }
 ],
 "metadata": {
  "kernelspec": {
   "display_name": "Python 3",
   "language": "python",
   "name": "python3"
  },
  "language_info": {
   "codemirror_mode": {
    "name": "ipython",
    "version": 3
   },
   "file_extension": ".py",
   "mimetype": "text/x-python",
   "name": "python",
   "nbconvert_exporter": "python",
   "pygments_lexer": "ipython3",
   "version": "3.8.3"
  }
 },
 "nbformat": 4,
 "nbformat_minor": 4
}
