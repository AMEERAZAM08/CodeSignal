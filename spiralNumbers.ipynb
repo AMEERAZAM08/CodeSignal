{
 "cells": [
  {
   "cell_type": "code",
   "execution_count": 7,
   "metadata": {},
   "outputs": [],
   "source": [
    "def spiralNumbers(n):\n",
    "\n",
    "    def nextdir (left,right,down,up):\n",
    "        #rotate direction clockwise\n",
    "        if left:\n",
    "            return False,False,False,True\n",
    "        elif right:\n",
    "            return False,False,True,False\n",
    "        elif down:\n",
    "            return True,False,False,False\n",
    "        elif up:\n",
    "            return False,True,False,False\n",
    "    \n",
    "    switchseq = [n]\n",
    "    for i in range(1,n):\n",
    "        switchseq.append(n-i)\n",
    "        switchseq.append(n-i)\n",
    "        \n",
    "    #print (switchseq)\n",
    "    \n",
    "    matrix = [[0 for x in range(n)]for x in range(n)]\n",
    "    \n",
    "    x = 1\n",
    "    y = 1\n",
    "    num = 1\n",
    "    \n",
    "    left = False\n",
    "    right = True\n",
    "    down = False\n",
    "    up = False\n",
    "    \n",
    "    for i in range(len(switchseq)):\n",
    "        steps = switchseq[i]\n",
    "        #print(matrix)\n",
    "\n",
    "        while steps > 0:\n",
    "            #print(x)\n",
    "            #print(y)\n",
    "            matrix[y-1][x-1] = num \n",
    "\n",
    "            steps = steps - 1 \n",
    "            num = num + 1\n",
    "\n",
    "            if steps == 0:\n",
    "                left,right,down,up = nextdir(left,right,down,up)\n",
    "\n",
    "            if left:\n",
    "                x = x-1\n",
    "            \n",
    "            if right:\n",
    "                x = x+1\n",
    "            \n",
    "            if up:\n",
    "                y = y-1\n",
    "            \n",
    "            if down:\n",
    "                y = y+1\n",
    "\n",
    "            \n",
    "    return matrix"
   ]
  },
  {
   "cell_type": "code",
   "execution_count": 8,
   "metadata": {},
   "outputs": [
    {
     "data": {
      "text/plain": [
       "[[1, 2, 3], [8, 9, 4], [7, 6, 5]]"
      ]
     },
     "execution_count": 8,
     "metadata": {},
     "output_type": "execute_result"
    }
   ],
   "source": [
    "spiralNumbers(3)"
   ]
  },
  {
   "cell_type": "code",
   "execution_count": null,
   "metadata": {},
   "outputs": [],
   "source": []
  }
 ],
 "metadata": {
  "kernelspec": {
   "display_name": "Python 3",
   "language": "python",
   "name": "python3"
  },
  "language_info": {
   "codemirror_mode": {
    "name": "ipython",
    "version": 3
   },
   "file_extension": ".py",
   "mimetype": "text/x-python",
   "name": "python",
   "nbconvert_exporter": "python",
   "pygments_lexer": "ipython3",
   "version": "3.8.3"
  }
 },
 "nbformat": 4,
 "nbformat_minor": 4
}
